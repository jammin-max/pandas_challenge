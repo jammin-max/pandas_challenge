{
 "metadata": {
  "language_info": {
   "codemirror_mode": {
    "name": "ipython",
    "version": 3
   },
   "file_extension": ".py",
   "mimetype": "text/x-python",
   "name": "python",
   "nbconvert_exporter": "python",
   "pygments_lexer": "ipython3",
   "version": "3.8.5"
  },
  "orig_nbformat": 2,
  "kernelspec": {
   "name": "python3",
   "display_name": "Python 3",
   "language": "python"
  }
 },
 "nbformat": 4,
 "nbformat_minor": 2,
 "cells": [
  {
   "cell_type": "code",
   "execution_count": 241,
   "metadata": {},
   "outputs": [
    {
     "output_type": "execute_result",
     "data": {
      "text/plain": [
       "   Purchase ID             SN  Age Gender  Item ID  \\\n",
       "0            0        Lisim78   20   Male      108   \n",
       "1            1    Lisovynya38   40   Male      143   \n",
       "2            2     Ithergue48   24   Male       92   \n",
       "3            3  Chamassasya86   24   Male      100   \n",
       "4            4      Iskosia90   23   Male      131   \n",
       "\n",
       "                                   Item Name  Price  \n",
       "0  Extraction, Quickblade Of Trembling Hands   3.53  \n",
       "1                          Frenzied Scimitar   1.56  \n",
       "2                               Final Critic   4.88  \n",
       "3                                Blindscythe   3.27  \n",
       "4                                       Fury   1.44  "
      ],
      "text/html": "<div>\n<style scoped>\n    .dataframe tbody tr th:only-of-type {\n        vertical-align: middle;\n    }\n\n    .dataframe tbody tr th {\n        vertical-align: top;\n    }\n\n    .dataframe thead th {\n        text-align: right;\n    }\n</style>\n<table border=\"1\" class=\"dataframe\">\n  <thead>\n    <tr style=\"text-align: right;\">\n      <th></th>\n      <th>Purchase ID</th>\n      <th>SN</th>\n      <th>Age</th>\n      <th>Gender</th>\n      <th>Item ID</th>\n      <th>Item Name</th>\n      <th>Price</th>\n    </tr>\n  </thead>\n  <tbody>\n    <tr>\n      <th>0</th>\n      <td>0</td>\n      <td>Lisim78</td>\n      <td>20</td>\n      <td>Male</td>\n      <td>108</td>\n      <td>Extraction, Quickblade Of Trembling Hands</td>\n      <td>3.53</td>\n    </tr>\n    <tr>\n      <th>1</th>\n      <td>1</td>\n      <td>Lisovynya38</td>\n      <td>40</td>\n      <td>Male</td>\n      <td>143</td>\n      <td>Frenzied Scimitar</td>\n      <td>1.56</td>\n    </tr>\n    <tr>\n      <th>2</th>\n      <td>2</td>\n      <td>Ithergue48</td>\n      <td>24</td>\n      <td>Male</td>\n      <td>92</td>\n      <td>Final Critic</td>\n      <td>4.88</td>\n    </tr>\n    <tr>\n      <th>3</th>\n      <td>3</td>\n      <td>Chamassasya86</td>\n      <td>24</td>\n      <td>Male</td>\n      <td>100</td>\n      <td>Blindscythe</td>\n      <td>3.27</td>\n    </tr>\n    <tr>\n      <th>4</th>\n      <td>4</td>\n      <td>Iskosia90</td>\n      <td>23</td>\n      <td>Male</td>\n      <td>131</td>\n      <td>Fury</td>\n      <td>1.44</td>\n    </tr>\n  </tbody>\n</table>\n</div>"
     },
     "metadata": {},
     "execution_count": 241
    }
   ],
   "source": [
    "# Dependencies and Setup\n",
    "import os\n",
    "import pandas as pd\n",
    "import numpy as np\n",
    "\n",
    "# File to Load \n",
    "read_csv = \"../Resources/purchase_data.csv\"\n",
    "\n",
    "# Create data frame, and read csv file\n",
    "purchase_data_1_df = pd.read_csv(read_csv)\n",
    "purchase_data_1_df.head()"
   ]
  },
  {
   "cell_type": "code",
   "execution_count": 242,
   "metadata": {},
   "outputs": [
    {
     "output_type": "execute_result",
     "data": {
      "text/plain": [
       "   Total Players\n",
       "0            576"
      ],
      "text/html": "<div>\n<style scoped>\n    .dataframe tbody tr th:only-of-type {\n        vertical-align: middle;\n    }\n\n    .dataframe tbody tr th {\n        vertical-align: top;\n    }\n\n    .dataframe thead th {\n        text-align: right;\n    }\n</style>\n<table border=\"1\" class=\"dataframe\">\n  <thead>\n    <tr style=\"text-align: right;\">\n      <th></th>\n      <th>Total Players</th>\n    </tr>\n  </thead>\n  <tbody>\n    <tr>\n      <th>0</th>\n      <td>576</td>\n    </tr>\n  </tbody>\n</table>\n</div>"
     },
     "metadata": {},
     "execution_count": 242
    }
   ],
   "source": [
    "#Add number of players, and create data frame to display total players\n",
    "#purchase_data_df.dtypes\n",
    "#purchase_data_df.columns\n",
    "number_of_players_df = purchase_data_df.loc[:, [\"Gender\", \"SN\", \"Age\"]]\n",
    "number_of_players_df = number_of_players_df.drop_duplicates()\n",
    "num_players = number_of_players_df.count()[0]     \n",
    "# Display the total number of players\n",
    "summary_1_df =pd.DataFrame({\"Total Players\": [num_players]})\n",
    "summary_1_df"
   ]
  },
  {
   "cell_type": "code",
   "execution_count": 243,
   "metadata": {},
   "outputs": [
    {
     "output_type": "execute_result",
     "data": {
      "text/plain": [
       "179"
      ]
     },
     "metadata": {},
     "execution_count": 243
    }
   ],
   "source": [
    "# Find number of unique items\n",
    "unique_df = purchase_data_df[\"Item Name\"].nunique()\n",
    "unique_df\n",
    "\n"
   ]
  },
  {
   "cell_type": "code",
   "execution_count": 244,
   "metadata": {},
   "outputs": [
    {
     "output_type": "execute_result",
     "data": {
      "text/plain": [
       "3.05"
      ]
     },
     "metadata": {},
     "execution_count": 244
    }
   ],
   "source": [
    "# find the average price\n",
    "average_price_df = round(purchase_data_df[\"Price\"].mean(),2)\n",
    "average_price_df\n"
   ]
  },
  {
   "cell_type": "code",
   "execution_count": 245,
   "metadata": {},
   "outputs": [
    {
     "output_type": "execute_result",
     "data": {
      "text/plain": [
       "2379.77"
      ]
     },
     "metadata": {},
     "execution_count": 245
    }
   ],
   "source": [
    "# to find the total revenue\n",
    "total_revenue_df = round(purchase_data_df[\"Price\"].sum(),2)\n",
    "total_revenue_df"
   ]
  },
  {
   "cell_type": "code",
   "execution_count": 232,
   "metadata": {},
   "outputs": [
    {
     "output_type": "execute_result",
     "data": {
      "text/plain": [
       "780"
      ]
     },
     "metadata": {},
     "execution_count": 232
    }
   ],
   "source": [
    "# to find the number of purchases\n",
    "total_purchases_df =purchase_data_df[\"Purchase ID\"].count()\n",
    "total_purchases_df\n"
   ]
  },
  {
   "cell_type": "code",
   "execution_count": 246,
   "metadata": {},
   "outputs": [
    {
     "output_type": "execute_result",
     "data": {
      "text/plain": [
       "<pandas.io.formats.style.Styler at 0x7fe39f5a0eb0>"
      ],
      "text/html": "<style  type=\"text/css\" >\n</style><table id=\"T_4ed8021a_9ad5_11eb_b1bd_acde48001122\" ><thead>    <tr>        <th class=\"blank level0\" ></th>        <th class=\"col_heading level0 col0\" >Number Of Unique Items</th>        <th class=\"col_heading level0 col1\" >Average Price</th>        <th class=\"col_heading level0 col2\" >Number Of Purchases</th>        <th class=\"col_heading level0 col3\" >Total Revenue</th>    </tr></thead><tbody>\n                <tr>\n                        <th id=\"T_4ed8021a_9ad5_11eb_b1bd_acde48001122level0_row0\" class=\"row_heading level0 row0\" >0</th>\n                        <td id=\"T_4ed8021a_9ad5_11eb_b1bd_acde48001122row0_col0\" class=\"data row0 col0\" >179</td>\n                        <td id=\"T_4ed8021a_9ad5_11eb_b1bd_acde48001122row0_col1\" class=\"data row0 col1\" >$3.05</td>\n                        <td id=\"T_4ed8021a_9ad5_11eb_b1bd_acde48001122row0_col2\" class=\"data row0 col2\" >780</td>\n                        <td id=\"T_4ed8021a_9ad5_11eb_b1bd_acde48001122row0_col3\" class=\"data row0 col3\" >$2,379.77</td>\n            </tr>\n    </tbody></table>"
     },
     "metadata": {},
     "execution_count": 246
    }
   ],
   "source": [
    "#Purchase Analysis into a data frame\n",
    "#purchase_data_df.dtypes\n",
    "#purchase_data_df.columns\n",
    "purchase_analysis_df = ([{\"Number Of Unique Items\":unique_df,\"Average Price\":average_price_df,\"Number Of Purchases\":total_purchases_df,\"Total Revenue\":total_revenue_df}])\n",
    "\n",
    "purchase_analysis_total_3_df = pd.DataFrame(purchase_analysis_df)\n",
    "#format Columns\n",
    "formatted_summary_2_df =purchase_analysis_total_3_df.style.format({'Number Of Unique Items':'{:.0f}','Average Price':'${:.2f}', 'Number Of Purchases':'{:.0f}', 'Total Revenue':'${:,.2f}'})\n",
    "#Display summary\n",
    "formatted_summary_2_df\n"
   ]
  },
  {
   "cell_type": "code",
   "execution_count": 247,
   "metadata": {},
   "outputs": [
    {
     "output_type": "execute_result",
     "data": {
      "text/plain": [
       "<pandas.io.formats.style.Styler at 0x7fe39f816820>"
      ],
      "text/html": "<style  type=\"text/css\" >\n</style><table id=\"T_50936d24_9ad5_11eb_b1bd_acde48001122\" ><thead>    <tr>        <th class=\"blank level0\" ></th>        <th class=\"col_heading level0 col0\" >Total Count</th>        <th class=\"col_heading level0 col1\" >Percentage of Players</th>    </tr></thead><tbody>\n                <tr>\n                        <th id=\"T_50936d24_9ad5_11eb_b1bd_acde48001122level0_row0\" class=\"row_heading level0 row0\" >Male</th>\n                        <td id=\"T_50936d24_9ad5_11eb_b1bd_acde48001122row0_col0\" class=\"data row0 col0\" >484</td>\n                        <td id=\"T_50936d24_9ad5_11eb_b1bd_acde48001122row0_col1\" class=\"data row0 col1\" >84.03%</td>\n            </tr>\n            <tr>\n                        <th id=\"T_50936d24_9ad5_11eb_b1bd_acde48001122level0_row1\" class=\"row_heading level0 row1\" >Female</th>\n                        <td id=\"T_50936d24_9ad5_11eb_b1bd_acde48001122row1_col0\" class=\"data row1 col0\" >81</td>\n                        <td id=\"T_50936d24_9ad5_11eb_b1bd_acde48001122row1_col1\" class=\"data row1 col1\" >14.06%</td>\n            </tr>\n            <tr>\n                        <th id=\"T_50936d24_9ad5_11eb_b1bd_acde48001122level0_row2\" class=\"row_heading level0 row2\" >Other / Non-Disclosed</th>\n                        <td id=\"T_50936d24_9ad5_11eb_b1bd_acde48001122row2_col0\" class=\"data row2 col0\" >11</td>\n                        <td id=\"T_50936d24_9ad5_11eb_b1bd_acde48001122row2_col1\" class=\"data row2 col1\" >1.91%</td>\n            </tr>\n    </tbody></table>"
     },
     "metadata": {},
     "execution_count": 247
    }
   ],
   "source": [
    "#Finding gender demographics\n",
    "#purchase_data_pd.head()\n",
    "#purchase_data_df.dtypes\n",
    "#purchase_data_df.columns\n",
    "gender1_df = purchase_data_df[['Gender','SN']].drop_duplicates(subset = 'SN')\n",
    "#Gender value counts\n",
    "gender_count = gender1_df['Gender'].value_counts(0)\n",
    "gender_percent = gender1_df['Gender'].value_counts(1)\n",
    "#create data frames\n",
    "gender_count_df = pd.DataFrame(gender_count)\n",
    "gender_percent_df = round(pd.DataFrame(gender_percent) * 100, 2)\n",
    "#Merge data frames\n",
    "gender_stats_4_df = gender_count_df.merge(gender_percent_df, left_index = True, right_index = True)\n",
    "#assign Title to columns\n",
    "gender_stats_4_df.columns = ['Total Count', 'Percentage of Players']\n",
    "#format Columns\n",
    "formatted_summary_3_df =gender_stats_4_df.style.format({'Total Count':'{:.0f}', 'Percentage of Players':'{:.2f}%'})\n",
    "#Display summary\n",
    "formatted_summary_3_df\n",
    "\n",
    "\n"
   ]
  },
  {
   "cell_type": "code",
   "execution_count": 235,
   "metadata": {},
   "outputs": [
    {
     "output_type": "execute_result",
     "data": {
      "text/plain": [
       "<pandas.io.formats.style.Styler at 0x7fe39f0386d0>"
      ],
      "text/html": "<style  type=\"text/css\" >\n</style><table id=\"T_497b5c5e_9ad5_11eb_b1bd_acde48001122\" ><thead>    <tr>        <th class=\"blank level0\" ></th>        <th class=\"col_heading level0 col0\" >Purchase Count</th>        <th class=\"col_heading level0 col1\" >Average Purchase Price</th>        <th class=\"col_heading level0 col2\" >Total Purchase Value</th>        <th class=\"col_heading level0 col3\" >Avg Total Purchase per Person</th>    </tr>    <tr>        <th class=\"index_name level0\" >Gender</th>        <th class=\"blank\" ></th>        <th class=\"blank\" ></th>        <th class=\"blank\" ></th>        <th class=\"blank\" ></th>    </tr></thead><tbody>\n                <tr>\n                        <th id=\"T_497b5c5e_9ad5_11eb_b1bd_acde48001122level0_row0\" class=\"row_heading level0 row0\" >Female</th>\n                        <td id=\"T_497b5c5e_9ad5_11eb_b1bd_acde48001122row0_col0\" class=\"data row0 col0\" >113</td>\n                        <td id=\"T_497b5c5e_9ad5_11eb_b1bd_acde48001122row0_col1\" class=\"data row0 col1\" >$3.20</td>\n                        <td id=\"T_497b5c5e_9ad5_11eb_b1bd_acde48001122row0_col2\" class=\"data row0 col2\" >$361.94</td>\n                        <td id=\"T_497b5c5e_9ad5_11eb_b1bd_acde48001122row0_col3\" class=\"data row0 col3\" >$4.47</td>\n            </tr>\n            <tr>\n                        <th id=\"T_497b5c5e_9ad5_11eb_b1bd_acde48001122level0_row1\" class=\"row_heading level0 row1\" >Male</th>\n                        <td id=\"T_497b5c5e_9ad5_11eb_b1bd_acde48001122row1_col0\" class=\"data row1 col0\" >652</td>\n                        <td id=\"T_497b5c5e_9ad5_11eb_b1bd_acde48001122row1_col1\" class=\"data row1 col1\" >$3.02</td>\n                        <td id=\"T_497b5c5e_9ad5_11eb_b1bd_acde48001122row1_col2\" class=\"data row1 col2\" >$1,967.64</td>\n                        <td id=\"T_497b5c5e_9ad5_11eb_b1bd_acde48001122row1_col3\" class=\"data row1 col3\" >$4.07</td>\n            </tr>\n            <tr>\n                        <th id=\"T_497b5c5e_9ad5_11eb_b1bd_acde48001122level0_row2\" class=\"row_heading level0 row2\" >Other / Non-Disclosed</th>\n                        <td id=\"T_497b5c5e_9ad5_11eb_b1bd_acde48001122row2_col0\" class=\"data row2 col0\" >15</td>\n                        <td id=\"T_497b5c5e_9ad5_11eb_b1bd_acde48001122row2_col1\" class=\"data row2 col1\" >$3.35</td>\n                        <td id=\"T_497b5c5e_9ad5_11eb_b1bd_acde48001122row2_col2\" class=\"data row2 col2\" >$50.19</td>\n                        <td id=\"T_497b5c5e_9ad5_11eb_b1bd_acde48001122row2_col3\" class=\"data row2 col3\" >$4.56</td>\n            </tr>\n    </tbody></table>"
     },
     "metadata": {},
     "execution_count": 235
    }
   ],
   "source": [
    "#Purchase analysis by gender\n",
    "#purchase_data_df.dtypes\n",
    "#purchase_data_df.columns\n",
    "gender_df = purchase_data_df.groupby('Gender')\n",
    "#gender_df.head()\n",
    "#collect my data\n",
    "purchase_count = gender_df['Purchase ID'].count()\n",
    "purchase_count =purchase_count.astype(object)\n",
    "avg_purchase_price_df = round(gender_df['Price'].mean(), 2)\n",
    "total_purchase_value = round(gender_df['Price'].sum(), 2)\n",
    "purchase_value_per_gender = round(total_purchase_value / gender_count, 2)\n",
    "#add to my data frame\n",
    "summary_data_4_df = pd.DataFrame([purchase_count, avg_purchase_price_df, total_purchase_value, purchase_value_per_gender])\n",
    "#summary_data_2_df.dtypes\n",
    "#Switch index, and columns to match example\n",
    "summary_4_df = summary_data_4_df.T\n",
    "summary_4_df.columns = ['Purchase Count', 'Average Purchase Price', 'Total Purchase Value', 'Avg Total Purchase per Person']\n",
    "#Format Columns\n",
    "formatted_summary_4_df =summary_4_df.style.format({'Purchase Count':'{:.0f}','Average Purchase Price':'${:.2f}', 'Total Purchase Value':'${:,.2f}', 'Avg Total Purchase per Person':'${:.2f}'})\n",
    "\n",
    "#display Summary\n",
    "formatted_summary_4_df"
   ]
  },
  {
   "cell_type": "code",
   "execution_count": 248,
   "metadata": {},
   "outputs": [
    {
     "output_type": "execute_result",
     "data": {
      "text/plain": [
       "<pandas.io.formats.style.Styler at 0x7fe39f424f40>"
      ],
      "text/html": "<style  type=\"text/css\" >\n</style><table id=\"T_539ea6e6_9ad5_11eb_b1bd_acde48001122\" ><thead>    <tr>        <th class=\"blank level0\" ></th>        <th class=\"col_heading level0 col0\" >Total Count</th>        <th class=\"col_heading level0 col1\" >Percentage of Players</th>    </tr>    <tr>        <th class=\"index_name level0\" >Total Count</th>        <th class=\"blank\" ></th>        <th class=\"blank\" ></th>    </tr></thead><tbody>\n                <tr>\n                        <th id=\"T_539ea6e6_9ad5_11eb_b1bd_acde48001122level0_row0\" class=\"row_heading level0 row0\" ><10</th>\n                        <td id=\"T_539ea6e6_9ad5_11eb_b1bd_acde48001122row0_col0\" class=\"data row0 col0\" >17</td>\n                        <td id=\"T_539ea6e6_9ad5_11eb_b1bd_acde48001122row0_col1\" class=\"data row0 col1\" >2.95%</td>\n            </tr>\n            <tr>\n                        <th id=\"T_539ea6e6_9ad5_11eb_b1bd_acde48001122level0_row1\" class=\"row_heading level0 row1\" >10-14</th>\n                        <td id=\"T_539ea6e6_9ad5_11eb_b1bd_acde48001122row1_col0\" class=\"data row1 col0\" >22</td>\n                        <td id=\"T_539ea6e6_9ad5_11eb_b1bd_acde48001122row1_col1\" class=\"data row1 col1\" >3.82%</td>\n            </tr>\n            <tr>\n                        <th id=\"T_539ea6e6_9ad5_11eb_b1bd_acde48001122level0_row2\" class=\"row_heading level0 row2\" >15-19</th>\n                        <td id=\"T_539ea6e6_9ad5_11eb_b1bd_acde48001122row2_col0\" class=\"data row2 col0\" >107</td>\n                        <td id=\"T_539ea6e6_9ad5_11eb_b1bd_acde48001122row2_col1\" class=\"data row2 col1\" >18.58%</td>\n            </tr>\n            <tr>\n                        <th id=\"T_539ea6e6_9ad5_11eb_b1bd_acde48001122level0_row3\" class=\"row_heading level0 row3\" >20-24</th>\n                        <td id=\"T_539ea6e6_9ad5_11eb_b1bd_acde48001122row3_col0\" class=\"data row3 col0\" >258</td>\n                        <td id=\"T_539ea6e6_9ad5_11eb_b1bd_acde48001122row3_col1\" class=\"data row3 col1\" >44.79%</td>\n            </tr>\n            <tr>\n                        <th id=\"T_539ea6e6_9ad5_11eb_b1bd_acde48001122level0_row4\" class=\"row_heading level0 row4\" >25-29</th>\n                        <td id=\"T_539ea6e6_9ad5_11eb_b1bd_acde48001122row4_col0\" class=\"data row4 col0\" >77</td>\n                        <td id=\"T_539ea6e6_9ad5_11eb_b1bd_acde48001122row4_col1\" class=\"data row4 col1\" >13.37%</td>\n            </tr>\n            <tr>\n                        <th id=\"T_539ea6e6_9ad5_11eb_b1bd_acde48001122level0_row5\" class=\"row_heading level0 row5\" >30-34</th>\n                        <td id=\"T_539ea6e6_9ad5_11eb_b1bd_acde48001122row5_col0\" class=\"data row5 col0\" >52</td>\n                        <td id=\"T_539ea6e6_9ad5_11eb_b1bd_acde48001122row5_col1\" class=\"data row5 col1\" >9.03%</td>\n            </tr>\n            <tr>\n                        <th id=\"T_539ea6e6_9ad5_11eb_b1bd_acde48001122level0_row6\" class=\"row_heading level0 row6\" >35-39</th>\n                        <td id=\"T_539ea6e6_9ad5_11eb_b1bd_acde48001122row6_col0\" class=\"data row6 col0\" >31</td>\n                        <td id=\"T_539ea6e6_9ad5_11eb_b1bd_acde48001122row6_col1\" class=\"data row6 col1\" >5.38%</td>\n            </tr>\n            <tr>\n                        <th id=\"T_539ea6e6_9ad5_11eb_b1bd_acde48001122level0_row7\" class=\"row_heading level0 row7\" >40+</th>\n                        <td id=\"T_539ea6e6_9ad5_11eb_b1bd_acde48001122row7_col0\" class=\"data row7 col0\" >12</td>\n                        <td id=\"T_539ea6e6_9ad5_11eb_b1bd_acde48001122row7_col1\" class=\"data row7 col1\" >2.08%</td>\n            </tr>\n    </tbody></table>"
     },
     "metadata": {},
     "execution_count": 248
    }
   ],
   "source": [
    "#age Demographics\n",
    "#purchase_data_df.dtypes\n",
    "#purchase_data_df.columns\n",
    "#create bins, and labels\n",
    "df_1 =purchase_data_df\n",
    "bins =[0,9,14,19,24,29,34,39,150]\n",
    "ages =[\"<10\",\"10-14\",\"15-19\",\"20-24\",\"25-29\",\"30-34\",\"35-39\",\"40+\"]\n",
    "\n",
    "#attach bins, and labels\n",
    "df_1[\"Total Count\"] = pd.cut(df_1[\"Age\"], bins, labels = ages)\n",
    "age1_df = df_1[['Total Count','SN']].drop_duplicates(subset = 'SN')\n",
    "\n",
    "#collect the required data\n",
    "age_demographics_summary = age1_df.groupby(\"Total Count\").count()\n",
    "age_counts = age_demographics_summary['SN']\n",
    "age_demographics_percentages = round(age_counts / 576 * 100, 2)\n",
    "\n",
    "summary_age_demographic_pd = pd.DataFrame([age_counts, age_demographics_percentages])\n",
    "#Switch index, and columns to match example\n",
    "summary_data_5_df = summary_age_demographic_pd.T\n",
    "#summary_data_6_df.dtypes\n",
    "#Add column titles\n",
    "summary_data_5_df.columns = ['Total Count', 'Percentage of Players']\n",
    "#format columns\n",
    "formatted_summary_5_df =summary_data_5_df.style.format({'Total Count':'{:.0f}','Percentage of Players':'{:.2f}%'})\n",
    "#display Summary\n",
    "formatted_summary_5_df\n"
   ]
  },
  {
   "cell_type": "code",
   "execution_count": 237,
   "metadata": {},
   "outputs": [
    {
     "output_type": "execute_result",
     "data": {
      "text/plain": [
       "<pandas.io.formats.style.Styler at 0x7fe39b5d3160>"
      ],
      "text/html": "<style  type=\"text/css\" >\n</style><table id=\"T_49846cb8_9ad5_11eb_b1bd_acde48001122\" ><thead>    <tr>        <th class=\"blank level0\" ></th>        <th class=\"col_heading level0 col0\" >Purchase Count</th>        <th class=\"col_heading level0 col1\" >Average Purchase Price</th>        <th class=\"col_heading level0 col2\" >Total Purchase Value</th>        <th class=\"col_heading level0 col3\" >Avg Total Purchase per Person</th>    </tr>    <tr>        <th class=\"index_name level0\" >Total Count</th>        <th class=\"blank\" ></th>        <th class=\"blank\" ></th>        <th class=\"blank\" ></th>        <th class=\"blank\" ></th>    </tr></thead><tbody>\n                <tr>\n                        <th id=\"T_49846cb8_9ad5_11eb_b1bd_acde48001122level0_row0\" class=\"row_heading level0 row0\" ><10</th>\n                        <td id=\"T_49846cb8_9ad5_11eb_b1bd_acde48001122row0_col0\" class=\"data row0 col0\" >23</td>\n                        <td id=\"T_49846cb8_9ad5_11eb_b1bd_acde48001122row0_col1\" class=\"data row0 col1\" >$3.35</td>\n                        <td id=\"T_49846cb8_9ad5_11eb_b1bd_acde48001122row0_col2\" class=\"data row0 col2\" >$77.13</td>\n                        <td id=\"T_49846cb8_9ad5_11eb_b1bd_acde48001122row0_col3\" class=\"data row0 col3\" >$4.54</td>\n            </tr>\n            <tr>\n                        <th id=\"T_49846cb8_9ad5_11eb_b1bd_acde48001122level0_row1\" class=\"row_heading level0 row1\" >10-14</th>\n                        <td id=\"T_49846cb8_9ad5_11eb_b1bd_acde48001122row1_col0\" class=\"data row1 col0\" >28</td>\n                        <td id=\"T_49846cb8_9ad5_11eb_b1bd_acde48001122row1_col1\" class=\"data row1 col1\" >$2.96</td>\n                        <td id=\"T_49846cb8_9ad5_11eb_b1bd_acde48001122row1_col2\" class=\"data row1 col2\" >$82.78</td>\n                        <td id=\"T_49846cb8_9ad5_11eb_b1bd_acde48001122row1_col3\" class=\"data row1 col3\" >$3.76</td>\n            </tr>\n            <tr>\n                        <th id=\"T_49846cb8_9ad5_11eb_b1bd_acde48001122level0_row2\" class=\"row_heading level0 row2\" >15-19</th>\n                        <td id=\"T_49846cb8_9ad5_11eb_b1bd_acde48001122row2_col0\" class=\"data row2 col0\" >136</td>\n                        <td id=\"T_49846cb8_9ad5_11eb_b1bd_acde48001122row2_col1\" class=\"data row2 col1\" >$3.04</td>\n                        <td id=\"T_49846cb8_9ad5_11eb_b1bd_acde48001122row2_col2\" class=\"data row2 col2\" >$412.89</td>\n                        <td id=\"T_49846cb8_9ad5_11eb_b1bd_acde48001122row2_col3\" class=\"data row2 col3\" >$3.86</td>\n            </tr>\n            <tr>\n                        <th id=\"T_49846cb8_9ad5_11eb_b1bd_acde48001122level0_row3\" class=\"row_heading level0 row3\" >20-24</th>\n                        <td id=\"T_49846cb8_9ad5_11eb_b1bd_acde48001122row3_col0\" class=\"data row3 col0\" >365</td>\n                        <td id=\"T_49846cb8_9ad5_11eb_b1bd_acde48001122row3_col1\" class=\"data row3 col1\" >$3.05</td>\n                        <td id=\"T_49846cb8_9ad5_11eb_b1bd_acde48001122row3_col2\" class=\"data row3 col2\" >$1,114.06</td>\n                        <td id=\"T_49846cb8_9ad5_11eb_b1bd_acde48001122row3_col3\" class=\"data row3 col3\" >$4.32</td>\n            </tr>\n            <tr>\n                        <th id=\"T_49846cb8_9ad5_11eb_b1bd_acde48001122level0_row4\" class=\"row_heading level0 row4\" >25-29</th>\n                        <td id=\"T_49846cb8_9ad5_11eb_b1bd_acde48001122row4_col0\" class=\"data row4 col0\" >101</td>\n                        <td id=\"T_49846cb8_9ad5_11eb_b1bd_acde48001122row4_col1\" class=\"data row4 col1\" >$2.90</td>\n                        <td id=\"T_49846cb8_9ad5_11eb_b1bd_acde48001122row4_col2\" class=\"data row4 col2\" >$293.00</td>\n                        <td id=\"T_49846cb8_9ad5_11eb_b1bd_acde48001122row4_col3\" class=\"data row4 col3\" >$3.81</td>\n            </tr>\n            <tr>\n                        <th id=\"T_49846cb8_9ad5_11eb_b1bd_acde48001122level0_row5\" class=\"row_heading level0 row5\" >30-34</th>\n                        <td id=\"T_49846cb8_9ad5_11eb_b1bd_acde48001122row5_col0\" class=\"data row5 col0\" >73</td>\n                        <td id=\"T_49846cb8_9ad5_11eb_b1bd_acde48001122row5_col1\" class=\"data row5 col1\" >$2.93</td>\n                        <td id=\"T_49846cb8_9ad5_11eb_b1bd_acde48001122row5_col2\" class=\"data row5 col2\" >$214.00</td>\n                        <td id=\"T_49846cb8_9ad5_11eb_b1bd_acde48001122row5_col3\" class=\"data row5 col3\" >$4.12</td>\n            </tr>\n            <tr>\n                        <th id=\"T_49846cb8_9ad5_11eb_b1bd_acde48001122level0_row6\" class=\"row_heading level0 row6\" >35-39</th>\n                        <td id=\"T_49846cb8_9ad5_11eb_b1bd_acde48001122row6_col0\" class=\"data row6 col0\" >41</td>\n                        <td id=\"T_49846cb8_9ad5_11eb_b1bd_acde48001122row6_col1\" class=\"data row6 col1\" >$3.60</td>\n                        <td id=\"T_49846cb8_9ad5_11eb_b1bd_acde48001122row6_col2\" class=\"data row6 col2\" >$147.67</td>\n                        <td id=\"T_49846cb8_9ad5_11eb_b1bd_acde48001122row6_col3\" class=\"data row6 col3\" >$4.76</td>\n            </tr>\n            <tr>\n                        <th id=\"T_49846cb8_9ad5_11eb_b1bd_acde48001122level0_row7\" class=\"row_heading level0 row7\" >40+</th>\n                        <td id=\"T_49846cb8_9ad5_11eb_b1bd_acde48001122row7_col0\" class=\"data row7 col0\" >13</td>\n                        <td id=\"T_49846cb8_9ad5_11eb_b1bd_acde48001122row7_col1\" class=\"data row7 col1\" >$2.94</td>\n                        <td id=\"T_49846cb8_9ad5_11eb_b1bd_acde48001122row7_col2\" class=\"data row7 col2\" >$38.24</td>\n                        <td id=\"T_49846cb8_9ad5_11eb_b1bd_acde48001122row7_col3\" class=\"data row7 col3\" >$3.19</td>\n            </tr>\n    </tbody></table>"
     },
     "metadata": {},
     "execution_count": 237
    }
   ],
   "source": [
    "#Purchase Analysis (Age)\n",
    "purchase_data_df.dtypes\n",
    "purchase_data_df.columns\n",
    "#create bins, and labels\n",
    "df_2 =purchase_data_df\n",
    "bins =[0,9,14,19,24,29,34,39,150]\n",
    "ages =[\"<10\",\"10-14\",\"15-19\",\"20-24\",\"25-29\",\"30-34\",\"35-39\",\"40+\"]\n",
    "#attach bins, and labels\n",
    "df_2[\"Total Count\"] = pd.cut(df_2[\"Age\"], bins, labels = ages)\n",
    "new_df = df_2[[\"Total Count\",\"SN\",\"Price\"]]\n",
    "\n",
    "new_grouped = new_df.groupby('Total Count')\n",
    "purchase_counts = new_grouped['Price'].count()\n",
    "average_prices = round(new_grouped['Price'].mean(),2)\n",
    "total_spent = round(new_grouped['Price'].sum(), 2)\n",
    "spending_per_person = round(total_spent/age_counts,2)\n",
    "\n",
    "summary_6_df = pd.DataFrame([purchase_counts, average_prices, total_spent, spending_per_person])\n",
    "#Switch index, and columns to match example\n",
    "summary_6_df = summary_6_df.T\n",
    "summary_6_df.columns = ['Purchase Count', 'Average Purchase Price', 'Total Purchase Value', 'Avg Total Purchase per Person']\n",
    "#format columns\n",
    "formatted_summary_6_df =summary_6_df.style.format({'Purchase Count':'{:.0f}','Average Purchase Price':'${:.2f}','Total Purchase Value':'${:,.2f}','Avg Total Purchase per Person':'${:.2f}'})\n",
    "#display Summary\n",
    "formatted_summary_6_df\n"
   ]
  },
  {
   "cell_type": "code",
   "execution_count": 249,
   "metadata": {},
   "outputs": [
    {
     "output_type": "execute_result",
     "data": {
      "text/plain": [
       "<pandas.io.formats.style.Styler at 0x7fe39f7d2dc0>"
      ],
      "text/html": "<style  type=\"text/css\" >\n</style><table id=\"T_55c740a4_9ad5_11eb_b1bd_acde48001122\" ><thead>    <tr>        <th class=\"blank level0\" ></th>        <th class=\"col_heading level0 col0\" >Purchase Count</th>        <th class=\"col_heading level0 col1\" >Average Purchase Price</th>        <th class=\"col_heading level0 col2\" >Total Purchase Value</th>    </tr>    <tr>        <th class=\"index_name level0\" >SN</th>        <th class=\"blank\" ></th>        <th class=\"blank\" ></th>        <th class=\"blank\" ></th>    </tr></thead><tbody>\n                <tr>\n                        <th id=\"T_55c740a4_9ad5_11eb_b1bd_acde48001122level0_row0\" class=\"row_heading level0 row0\" >Lisosia93</th>\n                        <td id=\"T_55c740a4_9ad5_11eb_b1bd_acde48001122row0_col0\" class=\"data row0 col0\" >5</td>\n                        <td id=\"T_55c740a4_9ad5_11eb_b1bd_acde48001122row0_col1\" class=\"data row0 col1\" >$3.79</td>\n                        <td id=\"T_55c740a4_9ad5_11eb_b1bd_acde48001122row0_col2\" class=\"data row0 col2\" >$18.96</td>\n            </tr>\n            <tr>\n                        <th id=\"T_55c740a4_9ad5_11eb_b1bd_acde48001122level0_row1\" class=\"row_heading level0 row1\" >Idastidru52</th>\n                        <td id=\"T_55c740a4_9ad5_11eb_b1bd_acde48001122row1_col0\" class=\"data row1 col0\" >4</td>\n                        <td id=\"T_55c740a4_9ad5_11eb_b1bd_acde48001122row1_col1\" class=\"data row1 col1\" >$3.86</td>\n                        <td id=\"T_55c740a4_9ad5_11eb_b1bd_acde48001122row1_col2\" class=\"data row1 col2\" >$15.45</td>\n            </tr>\n            <tr>\n                        <th id=\"T_55c740a4_9ad5_11eb_b1bd_acde48001122level0_row2\" class=\"row_heading level0 row2\" >Chamjask73</th>\n                        <td id=\"T_55c740a4_9ad5_11eb_b1bd_acde48001122row2_col0\" class=\"data row2 col0\" >3</td>\n                        <td id=\"T_55c740a4_9ad5_11eb_b1bd_acde48001122row2_col1\" class=\"data row2 col1\" >$4.61</td>\n                        <td id=\"T_55c740a4_9ad5_11eb_b1bd_acde48001122row2_col2\" class=\"data row2 col2\" >$13.83</td>\n            </tr>\n            <tr>\n                        <th id=\"T_55c740a4_9ad5_11eb_b1bd_acde48001122level0_row3\" class=\"row_heading level0 row3\" >Iral74</th>\n                        <td id=\"T_55c740a4_9ad5_11eb_b1bd_acde48001122row3_col0\" class=\"data row3 col0\" >4</td>\n                        <td id=\"T_55c740a4_9ad5_11eb_b1bd_acde48001122row3_col1\" class=\"data row3 col1\" >$3.40</td>\n                        <td id=\"T_55c740a4_9ad5_11eb_b1bd_acde48001122row3_col2\" class=\"data row3 col2\" >$13.62</td>\n            </tr>\n            <tr>\n                        <th id=\"T_55c740a4_9ad5_11eb_b1bd_acde48001122level0_row4\" class=\"row_heading level0 row4\" >Iskadarya95</th>\n                        <td id=\"T_55c740a4_9ad5_11eb_b1bd_acde48001122row4_col0\" class=\"data row4 col0\" >3</td>\n                        <td id=\"T_55c740a4_9ad5_11eb_b1bd_acde48001122row4_col1\" class=\"data row4 col1\" >$4.37</td>\n                        <td id=\"T_55c740a4_9ad5_11eb_b1bd_acde48001122row4_col2\" class=\"data row4 col2\" >$13.10</td>\n            </tr>\n    </tbody></table>"
     },
     "metadata": {},
     "execution_count": 249
    }
   ],
   "source": [
    "# Top Spenders\n",
    "#purchase_data_df.dtypes\n",
    "#purchase_data_df.columns\n",
    "# collect the required data\n",
    "spenders_df = purchase_data_df.groupby('SN')\n",
    "purchase_counts = spenders_df['Gender'].count()\n",
    "average_spending = round(spenders_df['Price'].mean(),2)\n",
    "total_purchase = round(spenders_df['Price'].sum(),2)\n",
    "#Begin formatting summary\n",
    "summary_7_df = pd.DataFrame([purchase_counts, average_spending, total_purchase])\n",
    "summary_7_df = summary_7_df.T\n",
    "summary_7_df.columns = ['Purchase Count', 'Average Purchase Price', 'Total Purchase Value']\n",
    "#display Summary\n",
    "#add in decending order, and formatting\n",
    "summary_7_df.sort_values('Total Purchase Value', ascending=False).head().style.format({'Purchase Count':'{:.0f}','Average Purchase Price':'${:.2f}','Total Purchase Value':'${:.2f}'})\n"
   ]
  },
  {
   "cell_type": "code",
   "execution_count": 239,
   "metadata": {},
   "outputs": [
    {
     "output_type": "execute_result",
     "data": {
      "text/plain": [
       "<pandas.io.formats.style.Styler at 0x7fe39c2f2f40>"
      ],
      "text/html": "<style  type=\"text/css\" >\n</style><table id=\"T_498debda_9ad5_11eb_b1bd_acde48001122\" ><thead>    <tr>        <th class=\"blank\" ></th>        <th class=\"blank level0\" ></th>        <th class=\"col_heading level0 col0\" >Purchase Count</th>        <th class=\"col_heading level0 col1\" >Item Price</th>        <th class=\"col_heading level0 col2\" >Total Purchase Value</th>    </tr>    <tr>        <th class=\"index_name level0\" >Item ID</th>        <th class=\"index_name level1\" >Item Name</th>        <th class=\"blank\" ></th>        <th class=\"blank\" ></th>        <th class=\"blank\" ></th>    </tr></thead><tbody>\n                <tr>\n                        <th id=\"T_498debda_9ad5_11eb_b1bd_acde48001122level0_row0\" class=\"row_heading level0 row0\" >92</th>\n                        <th id=\"T_498debda_9ad5_11eb_b1bd_acde48001122level1_row0\" class=\"row_heading level1 row0\" >Final Critic</th>\n                        <td id=\"T_498debda_9ad5_11eb_b1bd_acde48001122row0_col0\" class=\"data row0 col0\" >13</td>\n                        <td id=\"T_498debda_9ad5_11eb_b1bd_acde48001122row0_col1\" class=\"data row0 col1\" >$4.61</td>\n                        <td id=\"T_498debda_9ad5_11eb_b1bd_acde48001122row0_col2\" class=\"data row0 col2\" >$59.99</td>\n            </tr>\n            <tr>\n                        <th id=\"T_498debda_9ad5_11eb_b1bd_acde48001122level0_row1\" class=\"row_heading level0 row1\" >178</th>\n                        <th id=\"T_498debda_9ad5_11eb_b1bd_acde48001122level1_row1\" class=\"row_heading level1 row1\" >Oathbreaker, Last Hope of the Breaking Storm</th>\n                        <td id=\"T_498debda_9ad5_11eb_b1bd_acde48001122row1_col0\" class=\"data row1 col0\" >12</td>\n                        <td id=\"T_498debda_9ad5_11eb_b1bd_acde48001122row1_col1\" class=\"data row1 col1\" >$4.23</td>\n                        <td id=\"T_498debda_9ad5_11eb_b1bd_acde48001122row1_col2\" class=\"data row1 col2\" >$50.76</td>\n            </tr>\n            <tr>\n                        <th id=\"T_498debda_9ad5_11eb_b1bd_acde48001122level0_row2\" class=\"row_heading level0 row2\" >145</th>\n                        <th id=\"T_498debda_9ad5_11eb_b1bd_acde48001122level1_row2\" class=\"row_heading level1 row2\" >Fiery Glass Crusader</th>\n                        <td id=\"T_498debda_9ad5_11eb_b1bd_acde48001122row2_col0\" class=\"data row2 col0\" >9</td>\n                        <td id=\"T_498debda_9ad5_11eb_b1bd_acde48001122row2_col1\" class=\"data row2 col1\" >$4.58</td>\n                        <td id=\"T_498debda_9ad5_11eb_b1bd_acde48001122row2_col2\" class=\"data row2 col2\" >$41.22</td>\n            </tr>\n            <tr>\n                        <th id=\"T_498debda_9ad5_11eb_b1bd_acde48001122level0_row3\" class=\"row_heading level0 row3\" >132</th>\n                        <th id=\"T_498debda_9ad5_11eb_b1bd_acde48001122level1_row3\" class=\"row_heading level1 row3\" >Persuasion</th>\n                        <td id=\"T_498debda_9ad5_11eb_b1bd_acde48001122row3_col0\" class=\"data row3 col0\" >9</td>\n                        <td id=\"T_498debda_9ad5_11eb_b1bd_acde48001122row3_col1\" class=\"data row3 col1\" >$3.22</td>\n                        <td id=\"T_498debda_9ad5_11eb_b1bd_acde48001122row3_col2\" class=\"data row3 col2\" >$28.99</td>\n            </tr>\n            <tr>\n                        <th id=\"T_498debda_9ad5_11eb_b1bd_acde48001122level0_row4\" class=\"row_heading level0 row4\" >108</th>\n                        <th id=\"T_498debda_9ad5_11eb_b1bd_acde48001122level1_row4\" class=\"row_heading level1 row4\" >Extraction, Quickblade Of Trembling Hands</th>\n                        <td id=\"T_498debda_9ad5_11eb_b1bd_acde48001122row4_col0\" class=\"data row4 col0\" >9</td>\n                        <td id=\"T_498debda_9ad5_11eb_b1bd_acde48001122row4_col1\" class=\"data row4 col1\" >$3.53</td>\n                        <td id=\"T_498debda_9ad5_11eb_b1bd_acde48001122row4_col2\" class=\"data row4 col2\" >$31.77</td>\n            </tr>\n    </tbody></table>"
     },
     "metadata": {},
     "execution_count": 239
    }
   ],
   "source": [
    "#purchase_data_df.dtypes\n",
    "#purchase_data_df.columns\n",
    "popular_df =purchase_data_df\n",
    "popular_1_df = popular_df.groupby(['Item ID', 'Item Name'])\n",
    "purchase_counts2 = popular_1_df['Gender'].count()\n",
    "average_spending2 = round(popular_1_df['Price'].mean(),2)\n",
    "total_purchase2 = round(popular_1_df['Price'].sum(),2)\n",
    "\n",
    "summary_8_df = pd.DataFrame([purchase_counts2, average_spending2, total_purchase2])\n",
    "popular_summary_8_df = summary_8_df.T\n",
    "popular_summary_8_df.columns = ['Purchase Count', 'Item Price', 'Total Purchase Value']\n",
    "#display Summary\n",
    "#add in decending order, and formatting\n",
    "popular_summary_8_df.sort_values('Purchase Count', ascending=False).head().style.format({'Purchase Count':'{:.0f}','Item Price':'${:.2f}','Total Purchase Value':'${:.2f}'})\n",
    "\n"
   ]
  },
  {
   "cell_type": "code",
   "execution_count": 250,
   "metadata": {},
   "outputs": [
    {
     "output_type": "execute_result",
     "data": {
      "text/plain": [
       "<pandas.io.formats.style.Styler at 0x7fe39f57b880>"
      ],
      "text/html": "<style  type=\"text/css\" >\n</style><table id=\"T_58a3d760_9ad5_11eb_b1bd_acde48001122\" ><thead>    <tr>        <th class=\"blank\" ></th>        <th class=\"blank level0\" ></th>        <th class=\"col_heading level0 col0\" >Purchase Count</th>        <th class=\"col_heading level0 col1\" >Item Price</th>        <th class=\"col_heading level0 col2\" >Total Purchase Value</th>    </tr>    <tr>        <th class=\"index_name level0\" >Item ID</th>        <th class=\"index_name level1\" >Item Name</th>        <th class=\"blank\" ></th>        <th class=\"blank\" ></th>        <th class=\"blank\" ></th>    </tr></thead><tbody>\n                <tr>\n                        <th id=\"T_58a3d760_9ad5_11eb_b1bd_acde48001122level0_row0\" class=\"row_heading level0 row0\" >92</th>\n                        <th id=\"T_58a3d760_9ad5_11eb_b1bd_acde48001122level1_row0\" class=\"row_heading level1 row0\" >Final Critic</th>\n                        <td id=\"T_58a3d760_9ad5_11eb_b1bd_acde48001122row0_col0\" class=\"data row0 col0\" >13</td>\n                        <td id=\"T_58a3d760_9ad5_11eb_b1bd_acde48001122row0_col1\" class=\"data row0 col1\" >$4.61</td>\n                        <td id=\"T_58a3d760_9ad5_11eb_b1bd_acde48001122row0_col2\" class=\"data row0 col2\" >$59.99</td>\n            </tr>\n            <tr>\n                        <th id=\"T_58a3d760_9ad5_11eb_b1bd_acde48001122level0_row1\" class=\"row_heading level0 row1\" >178</th>\n                        <th id=\"T_58a3d760_9ad5_11eb_b1bd_acde48001122level1_row1\" class=\"row_heading level1 row1\" >Oathbreaker, Last Hope of the Breaking Storm</th>\n                        <td id=\"T_58a3d760_9ad5_11eb_b1bd_acde48001122row1_col0\" class=\"data row1 col0\" >12</td>\n                        <td id=\"T_58a3d760_9ad5_11eb_b1bd_acde48001122row1_col1\" class=\"data row1 col1\" >$4.23</td>\n                        <td id=\"T_58a3d760_9ad5_11eb_b1bd_acde48001122row1_col2\" class=\"data row1 col2\" >$50.76</td>\n            </tr>\n            <tr>\n                        <th id=\"T_58a3d760_9ad5_11eb_b1bd_acde48001122level0_row2\" class=\"row_heading level0 row2\" >82</th>\n                        <th id=\"T_58a3d760_9ad5_11eb_b1bd_acde48001122level1_row2\" class=\"row_heading level1 row2\" >Nirvana</th>\n                        <td id=\"T_58a3d760_9ad5_11eb_b1bd_acde48001122row2_col0\" class=\"data row2 col0\" >9</td>\n                        <td id=\"T_58a3d760_9ad5_11eb_b1bd_acde48001122row2_col1\" class=\"data row2 col1\" >$4.90</td>\n                        <td id=\"T_58a3d760_9ad5_11eb_b1bd_acde48001122row2_col2\" class=\"data row2 col2\" >$44.10</td>\n            </tr>\n            <tr>\n                        <th id=\"T_58a3d760_9ad5_11eb_b1bd_acde48001122level0_row3\" class=\"row_heading level0 row3\" >145</th>\n                        <th id=\"T_58a3d760_9ad5_11eb_b1bd_acde48001122level1_row3\" class=\"row_heading level1 row3\" >Fiery Glass Crusader</th>\n                        <td id=\"T_58a3d760_9ad5_11eb_b1bd_acde48001122row3_col0\" class=\"data row3 col0\" >9</td>\n                        <td id=\"T_58a3d760_9ad5_11eb_b1bd_acde48001122row3_col1\" class=\"data row3 col1\" >$4.58</td>\n                        <td id=\"T_58a3d760_9ad5_11eb_b1bd_acde48001122row3_col2\" class=\"data row3 col2\" >$41.22</td>\n            </tr>\n            <tr>\n                        <th id=\"T_58a3d760_9ad5_11eb_b1bd_acde48001122level0_row4\" class=\"row_heading level0 row4\" >103</th>\n                        <th id=\"T_58a3d760_9ad5_11eb_b1bd_acde48001122level1_row4\" class=\"row_heading level1 row4\" >Singed Scalpel</th>\n                        <td id=\"T_58a3d760_9ad5_11eb_b1bd_acde48001122row4_col0\" class=\"data row4 col0\" >8</td>\n                        <td id=\"T_58a3d760_9ad5_11eb_b1bd_acde48001122row4_col1\" class=\"data row4 col1\" >$4.35</td>\n                        <td id=\"T_58a3d760_9ad5_11eb_b1bd_acde48001122row4_col2\" class=\"data row4 col2\" >$34.80</td>\n            </tr>\n    </tbody></table>"
     },
     "metadata": {},
     "execution_count": 250
    }
   ],
   "source": [
    "#display Summary\n",
    "#add in decending order, and formatting\n",
    "popular_summary_9_df.sort_values('Total Purchase Value', ascending=False).head().style.format({'Purchase Count':'{:.0f}','Item Price':'${:.2f}','Total Purchase Value':'${:.2f}'})"
   ]
  },
  {
   "cell_type": "code",
   "execution_count": 252,
   "metadata": {},
   "outputs": [
    {
     "output_type": "stream",
     "name": "stdout",
     "text": [
      "this is th end of the script, and it all works\n"
     ]
    }
   ],
   "source": [
    "print(\"this is th end of the script, and it all works\")"
   ]
  }
 ]
}